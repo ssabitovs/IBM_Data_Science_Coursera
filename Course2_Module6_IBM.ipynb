{
 "cells": [
  {
   "cell_type": "markdown",
   "id": "159da95a-bd78-4e1c-9b34-660735506a36",
   "metadata": {},
   "source": [
    "# Data Science Tools and Ecosystem"
   ]
  },
  {
   "cell_type": "markdown",
   "id": "65ffacea-3ca5-4850-a27d-1f4800c8ef12",
   "metadata": {},
   "source": [
    "In this notebook, Data Science Tools and Ecosystem are summarized."
   ]
  },
  {
   "cell_type": "markdown",
   "id": "56e524c6-a13a-4e59-84e2-cd44ed05e3b4",
   "metadata": {},
   "source": [
    "***Objectives:***\n",
    "- List popular languages in Data Science\n",
    "- List popular Data Science Tools\n",
    "- Perform basic arithmetic calculations"
   ]
  },
  {
   "cell_type": "markdown",
   "id": "15e213fb-041f-47b1-a463-657eec2a72d9",
   "metadata": {},
   "source": [
    "Some of the popular languages that Data Scientists use are:\n",
    "1. Python\n",
    "2. R\n",
    "3. SQL\n",
    "4. Java\n",
    "5. Scala\n"
   ]
  },
  {
   "cell_type": "markdown",
   "id": "befbe3cb-c6c4-46cd-aabc-61bde40395e0",
   "metadata": {},
   "source": [
    "Some of the commonly used libraries used by Data Scientists include:\n",
    "1. Pandas\n",
    "2. NumPy\n",
    "3. Matplotlyb\n",
    "4. Seaborn"
   ]
  },
  {
   "cell_type": "markdown",
   "id": "6ea32187-0252-4519-bb04-bf4d65309c9c",
   "metadata": {},
   "source": [
    "| Data Science Tools |\n",
    "----------------------\n",
    "| JupyterLab |\n",
    "| RStudio |\n",
    "| Spyder |\n",
    "\n",
    "\n"
   ]
  },
  {
   "cell_type": "markdown",
   "id": "d824147c-2f1e-41ac-a798-7ea5e975c420",
   "metadata": {},
   "source": [
    "### Below are a few examples of evaluating arithmetic expressions in Python"
   ]
  },
  {
   "cell_type": "code",
   "execution_count": 27,
   "id": "9777a0cf-e75d-4dee-86d2-89e9dbad1d5d",
   "metadata": {},
   "outputs": [
    {
     "data": {
      "text/plain": [
       "17"
      ]
     },
     "execution_count": 27,
     "metadata": {},
     "output_type": "execute_result"
    }
   ],
   "source": [
    "# This a simple arithmetic expression to multiply then add integers\n",
    "(3*4)+5 \n"
   ]
  },
  {
   "cell_type": "code",
   "execution_count": 28,
   "id": "46c5931c-fbcf-413b-a7f7-26f0989642ac",
   "metadata": {},
   "outputs": [
    {
     "data": {
      "text/plain": [
       "3.3333333333333335"
      ]
     },
     "execution_count": 28,
     "metadata": {},
     "output_type": "execute_result"
    }
   ],
   "source": [
    "# This will convert 200 minutes to hours by diving by 60\n",
    "200/60"
   ]
  },
  {
   "cell_type": "markdown",
   "id": "69d0ebab-bffd-46a9-89de-2d3d4c2b7334",
   "metadata": {},
   "source": [
    "## Author: \n",
    "Stanislavs Sabitovs"
   ]
  }
 ],
 "metadata": {
  "kernelspec": {
   "display_name": "Python 3 (ipykernel)",
   "language": "python",
   "name": "python3"
  },
  "language_info": {
   "codemirror_mode": {
    "name": "ipython",
    "version": 3
   },
   "file_extension": ".py",
   "mimetype": "text/x-python",
   "name": "python",
   "nbconvert_exporter": "python",
   "pygments_lexer": "ipython3",
   "version": "3.11.7"
  }
 },
 "nbformat": 4,
 "nbformat_minor": 5
}
